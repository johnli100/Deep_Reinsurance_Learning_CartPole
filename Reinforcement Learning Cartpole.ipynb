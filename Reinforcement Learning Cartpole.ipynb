{
 "cells": [
  {
   "cell_type": "code",
   "execution_count": 1,
   "metadata": {},
   "outputs": [],
   "source": [
    "import gym\n",
    "import numpy as np\n",
    "import torch\n",
    "from torch import nn, optim\n",
    "import time\n",
    "import matplotlib.pyplot as plt\n",
    "%matplotlib inline"
   ]
  },
  {
   "cell_type": "code",
   "execution_count": 2,
   "metadata": {},
   "outputs": [],
   "source": [
    "env = gym.make('CartPole-v0')"
   ]
  },
  {
   "cell_type": "code",
   "execution_count": 3,
   "metadata": {},
   "outputs": [],
   "source": [
    "class Net(torch.nn.Module):\n",
    "    def __init__(self,feature_size=4,hidden_layer_size=[16,8],out_size=2,logits=True):\n",
    "        super(Net,self).__init__()\n",
    "        self.feature_size,self.hidden_layer_size,self.out_size = feature_size, hidden_layer_size,out_size\n",
    "        self.dropout = nn.Dropout(p=0.5)\n",
    "        self.act = nn.Tanh()\n",
    "        self.logits = logits\n",
    "        \n",
    "        layers = []\n",
    "        \n",
    "        self.input_layer = nn.Linear(self.feature_size,self.hidden_layer_size[0])\n",
    "        \n",
    "        for i in range(len(self.hidden_layer_size)-1):\n",
    "            layers.append(nn.Linear(self.hidden_layer_size[i],self.hidden_layer_size[i+1]))\n",
    "        self.hidden_layers = nn.ModuleList(layers)\n",
    "        \n",
    "        self.out_layer = nn.Linear(self.hidden_layer_size[len(self.hidden_layer_size)-1],self.out_size)\n",
    "    \n",
    "    def forward(self,x):        \n",
    "        x = self.act(self.input_layer(x))\n",
    "        \n",
    "        for i in range(len(self.hidden_layer_size)-1):\n",
    "            x = self.act(self.hidden_layers[i](x))\n",
    "            #x = self.dropout(x)\n",
    "        x = self.out_layer(x)\n",
    "        if self.logits==False:\n",
    "            x = torch.softmax(x,dim=1)\n",
    "        \n",
    "        return x"
   ]
  },
  {
   "cell_type": "code",
   "execution_count": 4,
   "metadata": {},
   "outputs": [],
   "source": [
    "value_net = Net(feature_size=4,hidden_layer_size=[16,8],out_size=1,logits=True)\n",
    "policy_net = Net(feature_size=4,hidden_layer_size=[16,8],out_size=2,logits=False)\n",
    "v_optimizer = optim.Adam(value_net.parameters(),lr=0.01)\n",
    "p_optimizer = optim.Adam(policy_net.parameters(),lr=0.01)\n",
    "#scheduler = optim.lr_scheduler.StepLR(optimizer,step_size=1,gamma=0.9,verbose=False)"
   ]
  },
  {
   "cell_type": "code",
   "execution_count": 5,
   "metadata": {},
   "outputs": [],
   "source": [
    "def play_mc(env,policy_model,value_model,gamma=0.99):\n",
    "    done = False\n",
    "    states = []\n",
    "    actions = []\n",
    "    rewards = []\n",
    "    Vs = []\n",
    "    Gs = []\n",
    "    Ads = []\n",
    "    obs = env.reset()\n",
    "    \n",
    "    value_model.eval()\n",
    "    policy_model.eval()\n",
    "    \n",
    "    with torch.no_grad():\n",
    "        while not done:\n",
    "            pre_state = torch.from_numpy(obs)\n",
    "            states.append(pre_state)\n",
    "\n",
    "            Vs.append(value_model(torch.from_numpy(obs).view(1,-1).float()).squeeze())\n",
    "            p = policy_model(torch.from_numpy(obs).view(1,-1).float())\n",
    "            C = torch.distributions.Categorical(p)\n",
    "            action = C.sample()\n",
    "            actions.append(action) \n",
    "            \n",
    "            obs, reward, done, _ = env.step(action.detach().numpy().squeeze())\n",
    "            rewards.append(reward)\n",
    "\n",
    "        G = 0\n",
    "        for i in range(len(rewards)-1,-1,-1):\n",
    "            G = G * gamma + rewards[i] \n",
    "            G = torch.from_numpy(np.array(G)).float()\n",
    "            Gs.append(G)\n",
    "            Ads.append(G - Vs[i])\n",
    "        Gs = Gs[::-1]\n",
    "        Ads = Ads[::-1]\n",
    "            \n",
    "    return (torch.stack(states).float(),torch.stack(actions).squeeze(),torch.stack(Gs).float(),torch.stack(Ads).float())      "
   ]
  },
  {
   "cell_type": "code",
   "execution_count": 9,
   "metadata": {},
   "outputs": [],
   "source": [
    "def train_mc(policy_model,p_optimizer,value_model,v_optimizer,epochs=100):\n",
    "    dur = 0\n",
    "    durations = []\n",
    "    episodes = []\n",
    "    for e in range(1,epochs+1):\n",
    "        states,actions,Gs,Ads= play_mc(env,policy_model,value_model)\n",
    "        \n",
    "        policy_model.train()\n",
    "        p_optimizer.zero_grad()\n",
    "        p_loss = -torch.sum(torch.log(torch.sum(nn.functional.one_hot(actions) * policy_model(states),dim=1)) * Ads)\n",
    "        p_loss.backward()\n",
    "        p_optimizer.step()\n",
    "        \n",
    "        value_model.train()\n",
    "        v_optimizer.zero_grad()\n",
    "        v_loss = torch.sum((Gs - value_model(states))**2)\n",
    "        v_loss.backward()\n",
    "        v_optimizer.step()\n",
    "        #scheduler.step()\n",
    "        \n",
    "        dur += len(actions)\n",
    "        \n",
    "        if e % 10 == 0:\n",
    "            print(f'Epoch {e}:average duration = {dur/10};')    \n",
    "            durations.append(dur)\n",
    "            episodes.append(e)\n",
    "            dur = 0\n",
    "            \n",
    "    plt.plot(np.array(episodes),np.array(durations))"
   ]
  },
  {
   "cell_type": "code",
   "execution_count": 10,
   "metadata": {
    "scrolled": true
   },
   "outputs": [
    {
     "name": "stdout",
     "output_type": "stream",
     "text": [
      "Epoch 10:average duration = 24.6;\n",
      "Epoch 20:average duration = 17.2;\n",
      "Epoch 30:average duration = 19.9;\n",
      "Epoch 40:average duration = 32.5;\n",
      "Epoch 50:average duration = 78.7;\n",
      "Epoch 60:average duration = 107.1;\n",
      "Epoch 70:average duration = 121.6;\n",
      "Epoch 80:average duration = 144.8;\n",
      "Epoch 90:average duration = 197.6;\n",
      "Epoch 100:average duration = 190.4;\n",
      "Epoch 110:average duration = 200.0;\n",
      "Epoch 120:average duration = 200.0;\n",
      "Epoch 130:average duration = 200.0;\n",
      "Epoch 140:average duration = 190.5;\n",
      "Epoch 150:average duration = 59.0;\n",
      "Epoch 160:average duration = 46.5;\n",
      "Epoch 170:average duration = 198.5;\n",
      "Epoch 180:average duration = 200.0;\n",
      "Epoch 190:average duration = 200.0;\n",
      "Epoch 200:average duration = 200.0;\n"
     ]
    },
    {
     "data": {
      "image/png": "[encoded data removed]",
      "text/plain": [
       "<Figure size 432x288 with 1 Axes>"
      ]
     },
     "metadata": {
      "needs_background": "light"
     },
     "output_type": "display_data"
    }
   ],
   "source": [
    "train_mc(policy_net,p_optimizer,value_net,v_optimizer,epochs=200)"
   ]
  },
  {
   "cell_type": "markdown",
   "metadata": {},
   "source": [
    "***The following is to be completed***"
   ]
  },
  {
   "cell_type": "code",
   "execution_count": 11,
   "metadata": {},
   "outputs": [],
   "source": [
    "def play_q(env,p_model,v_model,gamma=0.99):\n",
    "    done = False\n",
    "    states = []\n",
    "    Gs = []\n",
    "    obs = env.reset()\n",
    "    v_model.eval()\n",
    "    p_model.eval()\n",
    "    \n",
    "    with torch.no_grad():\n",
    "        G = 0\n",
    "        while not done:\n",
    "            pre_state = torch.from_numpy(obs).float()\n",
    "            states.append(pre_state)\n",
    "            \n",
    "\n",
    "            p= p_model(torch.from_numpy(obs).view(1,-1).float())\n",
    "            C = torch.distributions.Categorical(p)\n",
    "            act = C.sample()            \n",
    "\n",
    "            obs, reward, done, _ = env.step(act.numpy().squeeze())\n",
    "\n",
    "            q_next= v_model(torch.from_numpy(obs).view(1,-1).float()).detach()\n",
    "            G = (reward + q_next * gamma)\n",
    "            Gs.append(G)\n",
    "            \n",
    "\n",
    "    return (torch.stack(Gs).float(),torch.stack(states).float())       "
   ]
  },
  {
   "cell_type": "code",
   "execution_count": null,
   "metadata": {},
   "outputs": [],
   "source": [
    "def train_q(model,optimizer,scheduler,epochs=1000,gamma=0.99):\n",
    "    dur = 0\n",
    "    for e in range(1,epochs+1):\n",
    "        i = 0\n",
    "        done = False\n",
    "        obs = env.reset()\n",
    "        while not done:\n",
    "            i += 1\n",
    "            model.eval()\n",
    "            state = torch.from_numpy(obs).float()\n",
    "            q = model(torch.from_numpy(obs).view(1,-1).float())\n",
    "            C = torch.distributions.Categorical(torch.softmax(q,dim=1))\n",
    "            act = C.sample()\n",
    "\n",
    "            obs, reward, done, _ = env.step(act.detach().numpy().squeeze())\n",
    "\n",
    "            q_next = model(torch.from_numpy(obs).view(1,-1).float()).squeeze()\n",
    "\n",
    "            if act:\n",
    "                Gs = torch.stack((q.squeeze()[0],q_next[1]*gamma+reward))\n",
    "            else: \n",
    "                Gs = torch.stack((q_next[0]*gamma+reward,q.squeeze()[1]))\n",
    "        \n",
    "            model.train()\n",
    "            optimizer.zero_grad()\n",
    "            #loss = -torch.sum(Gs * torch.log(torch.softmax(model(states),dim=1)))\n",
    "            loss = torch.sum(Gs - model(state))\n",
    "            loss.backward()\n",
    "            optimizer.step()\n",
    "            #scheduler.step()\n",
    "\n",
    "        dur += i\n",
    "        \n",
    "        if e % 100 == 0:\n",
    "            print(f'Epoch {e}: average duration = {dur/100}.')    \n",
    "            dur = 0 "
   ]
  },
  {
   "cell_type": "code",
   "execution_count": null,
   "metadata": {},
   "outputs": [],
   "source": []
  }
 ],
 "metadata": {
  "kernelspec": {
   "display_name": "Python 3",
   "language": "python",
   "name": "python3"
  },
  "language_info": {
   "codemirror_mode": {
    "name": "ipython",
    "version": 3
   },
   "file_extension": ".py",
   "mimetype": "text/x-python",
   "name": "python",
   "nbconvert_exporter": "python",
   "pygments_lexer": "ipython3",
   "version": "3.8.3"
  }
 },
 "nbformat": 4,
 "nbformat_minor": 4
}
