{
 "cells": [
  {
   "cell_type": "markdown",
   "metadata": {},
   "source": [
    "## Cartpole Reinforcement Learning Policy Gradient Method "
   ]
  },
  {
   "cell_type": "markdown",
   "metadata": {},
   "source": [
    "In this exercise, I implemented [Policy Gradient Reinforcement Learning method](https://homes.cs.washington.edu/~todorov/courses/amath579/reading/PolicyGradient.pdf) to solve the Cartpole problem (OpenAI cartpole-v0). I used Monte Carlo and Q-learning approach to sample the rewards; the Monte Carlo approach seems to converge much faster and Q-learning takes a long time to converge, which is what I would expect. "
   ]
  },
  {
   "cell_type": "code",
   "execution_count": 1,
   "metadata": {},
   "outputs": [],
   "source": [
    "import gym\n",
    "import numpy as np\n",
    "import torch\n",
    "from torch import nn, optim\n",
    "import time\n",
    "import matplotlib.pyplot as plt\n",
    "%matplotlib inline"
   ]
  },
  {
   "cell_type": "markdown",
   "metadata": {},
   "source": [
    "First, we import the Cartpole (v0 - discreate action space 0/1) environment from OpenAI."
   ]
  },
  {
   "cell_type": "code",
   "execution_count": 2,
   "metadata": {},
   "outputs": [],
   "source": [
    "env = gym.make('CartPole-v0')"
   ]
  },
  {
   "cell_type": "markdown",
   "metadata": {},
   "source": [
    "Then we create the neural network with user defined input feature size, number of hidden layers and size of each hidden layer and output size below."
   ]
  },
  {
   "cell_type": "code",
   "execution_count": 3,
   "metadata": {},
   "outputs": [],
   "source": [
    "class Net(torch.nn.Module):\n",
    "    def __init__(self,feature_size=4,hidden_layer_size=[16,8],out_size=2,logits=True):\n",
    "        super(Net,self).__init__()\n",
    "        self.feature_size,self.hidden_layer_size,self.out_size = feature_size, hidden_layer_size,out_size\n",
    "        self.dropout = nn.Dropout(p=0.5)\n",
    "        self.act = nn.Tanh()\n",
    "        self.logits = logits\n",
    "        \n",
    "        layers = []\n",
    "        \n",
    "        self.input_layer = nn.Linear(self.feature_size,self.hidden_layer_size[0])\n",
    "        \n",
    "        for i in range(len(self.hidden_layer_size)-1):\n",
    "            layers.append(nn.Linear(self.hidden_layer_size[i],self.hidden_layer_size[i+1]))\n",
    "        self.hidden_layers = nn.ModuleList(layers)\n",
    "        \n",
    "        self.out_layer = nn.Linear(self.hidden_layer_size[len(self.hidden_layer_size)-1],self.out_size)\n",
    "    \n",
    "    def forward(self,x):        \n",
    "        x = self.act(self.input_layer(x))\n",
    "        \n",
    "        for i in range(len(self.hidden_layer_size)-1):\n",
    "            x = self.act(self.hidden_layers[i](x))\n",
    "            #x = self.dropout(x)\n",
    "        x = self.out_layer(x)\n",
    "        if self.logits==False:\n",
    "            x = torch.softmax(x,dim=1)\n",
    "        \n",
    "        return x"
   ]
  },
  {
   "cell_type": "markdown",
   "metadata": {},
   "source": [
    "We then initialize the policy model and value model below. The policy model has two outputs, one for each action, as probability of each action. The value model has only one output - the value of a state."
   ]
  },
  {
   "cell_type": "code",
   "execution_count": 4,
   "metadata": {},
   "outputs": [],
   "source": [
    "value_net = Net(feature_size=4,hidden_layer_size=[16,8],out_size=1,logits=True)\n",
    "policy_net = Net(feature_size=4,hidden_layer_size=[16,8],out_size=2,logits=False)\n",
    "v_optimizer = optim.Adam(value_net.parameters(),lr=0.01)\n",
    "p_optimizer = optim.Adam(policy_net.parameters(),lr=0.01)\n",
    "#scheduler = optim.lr_scheduler.StepLR(optimizer,step_size=1,gamma=0.9,verbose=False)"
   ]
  },
  {
   "cell_type": "markdown",
   "metadata": {},
   "source": [
    "## Monte Carlo approach"
   ]
  },
  {
   "cell_type": "markdown",
   "metadata": {},
   "source": [
    "Below we define one episode of play for the Monte Carlo approach which runs one episode from random starting state and collects the subsequent actions, states, sampled returns (Gs) and advantages (difference between the sampled returns and returns based on the value model). The Monte Carlo approach calculates the returns using all the subsequent sampled rewards as opposed to the immediate reward plus the \"Q\" value for the immediate next state based on the value model. "
   ]
  },
  {
   "cell_type": "code",
   "execution_count": 5,
   "metadata": {},
   "outputs": [],
   "source": [
    "def play_mc(env,policy_model,value_model,gamma=0.99):\n",
    "    done = False\n",
    "    states = []\n",
    "    actions = []\n",
    "    rewards = []\n",
    "    Vs = []\n",
    "    Gs = []\n",
    "    Ads = []\n",
    "    obs = env.reset()\n",
    "    \n",
    "    value_model.eval()\n",
    "    policy_model.eval()\n",
    "    \n",
    "    with torch.no_grad():\n",
    "        while not done:\n",
    "            pre_state = torch.from_numpy(obs)\n",
    "            states.append(pre_state)\n",
    "\n",
    "            Vs.append(value_model(torch.from_numpy(obs).view(1,-1).float()).squeeze().data)\n",
    "            p = policy_model(torch.from_numpy(obs).view(1,-1).float())\n",
    "            C = torch.distributions.Categorical(p)\n",
    "            action = C.sample()\n",
    "            actions.append(action.data) \n",
    "            \n",
    "            obs, reward, done, _ = env.step(action.data.numpy().squeeze())\n",
    "            rewards.append(reward)\n",
    "\n",
    "        G = 0\n",
    "        for i in range(len(rewards)-1,-1,-1):\n",
    "            G = G * gamma + rewards[i] \n",
    "            G = torch.from_numpy(np.array(G)).float()\n",
    "            Gs.append(G)\n",
    "            Ads.append(G - Vs[i])\n",
    "        Gs = Gs[::-1]\n",
    "        Ads = Ads[::-1]\n",
    "            \n",
    "    return (torch.stack(states).float(),torch.stack(actions).squeeze(),torch.stack(Gs).float(),torch.stack(Ads).float())      "
   ]
  },
  {
   "cell_type": "markdown",
   "metadata": {},
   "source": [
    "Now we define the training for the Monte Carlo approach and run the training 300 episodes. The result seems to converge well."
   ]
  },
  {
   "cell_type": "code",
   "execution_count": 6,
   "metadata": {},
   "outputs": [],
   "source": [
    "def train_mc(policy_model,p_optimizer,value_model,v_optimizer,epochs=100):\n",
    "    dur = 0\n",
    "    durations = []\n",
    "    episodes = []\n",
    "    for e in range(1,epochs+1):\n",
    "        states,actions,Gs,Ads= play_mc(env,policy_model,value_model)\n",
    "        \n",
    "        policy_model.train()\n",
    "        p_optimizer.zero_grad()\n",
    "        p_loss = -torch.sum(torch.log(torch.sum(nn.functional.one_hot(actions) * policy_model(states),dim=1)) * Ads)\n",
    "        p_loss.backward()\n",
    "        p_optimizer.step()\n",
    "        \n",
    "        value_model.train()\n",
    "        v_optimizer.zero_grad()\n",
    "        v_loss = torch.sum((Gs - value_model(states))**2)\n",
    "        v_loss.backward()\n",
    "        v_optimizer.step()\n",
    "        #scheduler.step()\n",
    "        \n",
    "        dur += len(actions)\n",
    "        \n",
    "        if e % 10 == 0:\n",
    "            print(f'Epoch {e}:average duration = {dur/10};')    \n",
    "            durations.append(dur)\n",
    "            episodes.append(e)\n",
    "            dur = 0\n",
    "            \n",
    "    plt.plot(np.array(episodes),np.array(durations))"
   ]
  },
  {
   "cell_type": "code",
   "execution_count": 7,
   "metadata": {},
   "outputs": [
    {
     "name": "stdout",
     "output_type": "stream",
     "text": [
      "Epoch 10:average duration = 17.1;\n",
      "Epoch 20:average duration = 25.9;\n",
      "Epoch 30:average duration = 35.0;\n",
      "Epoch 40:average duration = 55.5;\n",
      "Epoch 50:average duration = 75.0;\n",
      "Epoch 60:average duration = 108.7;\n",
      "Epoch 70:average duration = 174.6;\n",
      "Epoch 80:average duration = 159.9;\n",
      "Epoch 90:average duration = 190.9;\n",
      "Epoch 100:average duration = 143.6;\n",
      "Epoch 110:average duration = 170.7;\n",
      "Epoch 120:average duration = 175.0;\n",
      "Epoch 130:average duration = 158.7;\n",
      "Epoch 140:average duration = 162.8;\n",
      "Epoch 150:average duration = 170.5;\n",
      "Epoch 160:average duration = 186.6;\n",
      "Epoch 170:average duration = 181.8;\n",
      "Epoch 180:average duration = 196.7;\n",
      "Epoch 190:average duration = 188.5;\n",
      "Epoch 200:average duration = 172.0;\n",
      "Epoch 210:average duration = 120.9;\n",
      "Epoch 220:average duration = 114.5;\n",
      "Epoch 230:average duration = 117.7;\n",
      "Epoch 240:average duration = 131.2;\n",
      "Epoch 250:average duration = 163.8;\n",
      "Epoch 260:average duration = 200.0;\n",
      "Epoch 270:average duration = 182.6;\n",
      "Epoch 280:average duration = 157.6;\n",
      "Epoch 290:average duration = 196.1;\n",
      "Epoch 300:average duration = 200.0;\n"
     ]
    },
    {
     "data": {
      "image/png": "[encoded data removed]",
      "text/plain": [
       "<Figure size 432x288 with 1 Axes>"
      ]
     },
     "metadata": {
      "needs_background": "light"
     },
     "output_type": "display_data"
    }
   ],
   "source": [
    "train_mc(policy_net,p_optimizer,value_net,v_optimizer,epochs=300)"
   ]
  },
  {
   "cell_type": "markdown",
   "metadata": {},
   "source": [
    "## Q-learning approach"
   ]
  },
  {
   "cell_type": "markdown",
   "metadata": {},
   "source": [
    "For the Q-learning approach, we define the one episode of play below. The training is almost the same."
   ]
  },
  {
   "cell_type": "code",
   "execution_count": 8,
   "metadata": {},
   "outputs": [],
   "source": [
    "def play_q(env,policy_model,value_model,gamma=0.99):\n",
    "    done = False\n",
    "    states = []\n",
    "    Gs = []\n",
    "    Ads = []\n",
    "    actions = []\n",
    "    obs = env.reset()\n",
    "    \n",
    "    value_model.eval()\n",
    "    policy_model.eval()\n",
    "    \n",
    "    with torch.no_grad():\n",
    "        G,V,Ad = 0,0,0\n",
    "        while not done:\n",
    "            pre_state = torch.from_numpy(obs).float()\n",
    "            states.append(pre_state)\n",
    "                    \n",
    "            V = value_model(torch.from_numpy(obs).view(1,-1).float()).data\n",
    "            p= policy_model(torch.from_numpy(obs).view(1,-1).float())\n",
    "            C = torch.distributions.Categorical(p)\n",
    "            action = C.sample()            \n",
    "            actions.append(action.data)\n",
    "\n",
    "            obs, reward, done, _ = env.step(action.data.numpy().squeeze())\n",
    "\n",
    "            q_next= value_model(torch.from_numpy(obs).view(1,-1).float()).data\n",
    "            G = reward + q_next * gamma\n",
    "            Ad = G - V\n",
    "            Gs.append(G)\n",
    "            Ads.append(Ad)\n",
    "            \n",
    "    return (torch.stack(states).float(),torch.stack(actions).squeeze(),torch.stack(Gs).float(),torch.stack(Ads).float())       "
   ]
  },
  {
   "cell_type": "code",
   "execution_count": 9,
   "metadata": {},
   "outputs": [],
   "source": [
    "def train_q(policy_model,p_optimizer,value_model,v_optimizer,epochs=100):\n",
    "    dur = 0\n",
    "    durations = []\n",
    "    episodes = []\n",
    "    for e in range(1,epochs+1):\n",
    "        states,actions,Gs,Ads= play_q(env,policy_model,value_model)        \n",
    "        \n",
    "        policy_model.train()\n",
    "        p_optimizer.zero_grad()\n",
    "        p_loss = -torch.sum(torch.log(torch.sum(nn.functional.one_hot(actions) * policy_model(states),dim=1)) * Ads)\n",
    "        p_loss.backward()\n",
    "        p_optimizer.step()\n",
    "        \n",
    "        value_model.train()\n",
    "        v_optimizer.zero_grad()\n",
    "        v_loss = torch.sum((Gs - value_model(states))**2)\n",
    "        v_loss.backward()\n",
    "        v_optimizer.step()\n",
    "        #scheduler.step()\n",
    "        \n",
    "        dur += len(actions)\n",
    "        \n",
    "        if e % 10 == 0:\n",
    "            print(f'Epoch {e}:average duration = {dur/10};')    \n",
    "            durations.append(dur)\n",
    "            episodes.append(e)\n",
    "            dur = 0\n",
    "            \n",
    "    plt.plot(np.array(episodes),np.array(durations))"
   ]
  },
  {
   "cell_type": "markdown",
   "metadata": {},
   "source": [
    "Before training, we need to initialize a different value and policy model than the ones for the Monte Carlo approach. The Q-learning approach needs careful tuning of the learning rate and takes much longer to converge as demonstrated below."
   ]
  },
  {
   "cell_type": "code",
   "execution_count": 10,
   "metadata": {},
   "outputs": [],
   "source": [
    "value_net = Net(feature_size=4,hidden_layer_size=[16,8],out_size=1,logits=True)\n",
    "policy_net = Net(feature_size=4,hidden_layer_size=[16,8],out_size=2,logits=False)\n",
    "v_optimizer = optim.Adam(value_net.parameters(),lr=0.001)\n",
    "p_optimizer = optim.Adam(policy_net.parameters(),lr=0.001)\n",
    "#scheduler = optim.lr_scheduler.StepLR(optimizer,step_size=1,gamma=0.9,verbose=False)"
   ]
  },
  {
   "cell_type": "code",
   "execution_count": 11,
   "metadata": {},
   "outputs": [
    {
     "name": "stdout",
     "output_type": "stream",
     "text": [
      "Epoch 10:average duration = 17.8;\n",
      "Epoch 20:average duration = 13.6;\n",
      "Epoch 30:average duration = 19.5;\n",
      "Epoch 40:average duration = 15.5;\n",
      "Epoch 50:average duration = 16.5;\n",
      "Epoch 60:average duration = 19.3;\n",
      "Epoch 70:average duration = 16.5;\n",
      "Epoch 80:average duration = 18.5;\n",
      "Epoch 90:average duration = 18.1;\n",
      "Epoch 100:average duration = 29.0;\n",
      "Epoch 110:average duration = 21.6;\n",
      "Epoch 120:average duration = 24.4;\n",
      "Epoch 130:average duration = 27.1;\n",
      "Epoch 140:average duration = 21.0;\n",
      "Epoch 150:average duration = 25.1;\n",
      "Epoch 160:average duration = 21.5;\n",
      "Epoch 170:average duration = 21.2;\n",
      "Epoch 180:average duration = 23.1;\n",
      "Epoch 190:average duration = 23.5;\n",
      "Epoch 200:average duration = 21.6;\n",
      "Epoch 210:average duration = 32.1;\n",
      "Epoch 220:average duration = 30.9;\n",
      "Epoch 230:average duration = 25.8;\n",
      "Epoch 240:average duration = 26.5;\n",
      "Epoch 250:average duration = 31.2;\n",
      "Epoch 260:average duration = 46.1;\n",
      "Epoch 270:average duration = 28.4;\n",
      "Epoch 280:average duration = 29.9;\n",
      "Epoch 290:average duration = 39.7;\n",
      "Epoch 300:average duration = 26.0;\n",
      "Epoch 310:average duration = 26.8;\n",
      "Epoch 320:average duration = 29.7;\n",
      "Epoch 330:average duration = 47.3;\n",
      "Epoch 340:average duration = 24.4;\n",
      "Epoch 350:average duration = 28.1;\n",
      "Epoch 360:average duration = 48.9;\n",
      "Epoch 370:average duration = 29.8;\n",
      "Epoch 380:average duration = 27.4;\n",
      "Epoch 390:average duration = 34.4;\n",
      "Epoch 400:average duration = 30.9;\n",
      "Epoch 410:average duration = 35.2;\n",
      "Epoch 420:average duration = 44.2;\n",
      "Epoch 430:average duration = 30.6;\n",
      "Epoch 440:average duration = 36.3;\n",
      "Epoch 450:average duration = 58.9;\n",
      "Epoch 460:average duration = 31.3;\n",
      "Epoch 470:average duration = 52.5;\n",
      "Epoch 480:average duration = 48.3;\n",
      "Epoch 490:average duration = 38.4;\n",
      "Epoch 500:average duration = 43.2;\n",
      "Epoch 510:average duration = 42.9;\n",
      "Epoch 520:average duration = 50.7;\n",
      "Epoch 530:average duration = 57.2;\n",
      "Epoch 540:average duration = 38.2;\n",
      "Epoch 550:average duration = 48.3;\n",
      "Epoch 560:average duration = 57.1;\n",
      "Epoch 570:average duration = 57.4;\n",
      "Epoch 580:average duration = 52.4;\n",
      "Epoch 590:average duration = 47.2;\n",
      "Epoch 600:average duration = 69.2;\n",
      "Epoch 610:average duration = 67.0;\n",
      "Epoch 620:average duration = 68.1;\n",
      "Epoch 630:average duration = 74.1;\n",
      "Epoch 640:average duration = 58.7;\n",
      "Epoch 650:average duration = 82.4;\n",
      "Epoch 660:average duration = 50.4;\n",
      "Epoch 670:average duration = 82.1;\n",
      "Epoch 680:average duration = 81.6;\n",
      "Epoch 690:average duration = 124.8;\n",
      "Epoch 700:average duration = 115.0;\n",
      "Epoch 710:average duration = 139.8;\n",
      "Epoch 720:average duration = 153.4;\n",
      "Epoch 730:average duration = 111.0;\n",
      "Epoch 740:average duration = 122.7;\n",
      "Epoch 750:average duration = 88.4;\n",
      "Epoch 760:average duration = 76.5;\n",
      "Epoch 770:average duration = 46.3;\n",
      "Epoch 780:average duration = 62.9;\n",
      "Epoch 790:average duration = 72.4;\n",
      "Epoch 800:average duration = 66.0;\n",
      "Epoch 810:average duration = 57.1;\n",
      "Epoch 820:average duration = 63.7;\n",
      "Epoch 830:average duration = 55.0;\n",
      "Epoch 840:average duration = 78.0;\n",
      "Epoch 850:average duration = 94.5;\n",
      "Epoch 860:average duration = 96.1;\n",
      "Epoch 870:average duration = 80.5;\n",
      "Epoch 880:average duration = 121.2;\n",
      "Epoch 890:average duration = 120.4;\n",
      "Epoch 900:average duration = 126.6;\n",
      "Epoch 910:average duration = 138.7;\n",
      "Epoch 920:average duration = 139.5;\n",
      "Epoch 930:average duration = 118.7;\n",
      "Epoch 940:average duration = 119.3;\n",
      "Epoch 950:average duration = 120.4;\n",
      "Epoch 960:average duration = 126.8;\n",
      "Epoch 970:average duration = 128.2;\n",
      "Epoch 980:average duration = 155.9;\n",
      "Epoch 990:average duration = 129.7;\n",
      "Epoch 1000:average duration = 139.1;\n"
     ]
    },
    {
     "data": {
      "image/png": "[encoded data removed]",
      "text/plain": [
       "<Figure size 432x288 with 1 Axes>"
      ]
     },
     "metadata": {
      "needs_background": "light"
     },
     "output_type": "display_data"
    }
   ],
   "source": [
    "train_q(policy_net,p_optimizer,value_net,v_optimizer,epochs=1000)"
   ]
  },
  {
   "cell_type": "markdown",
   "metadata": {},
   "source": [
    "## Conclusion"
   ]
  },
  {
   "cell_type": "markdown",
   "metadata": {},
   "source": [
    "The Policy Gradient Reinforcement Learning works well on the Cartpole problem; both Monte Carlo and Q-learning approach seem be able to converge while the Monte Carlo approach is much faster."
   ]
  },
  {
   "cell_type": "code",
   "execution_count": null,
   "metadata": {},
   "outputs": [],
   "source": []
  }
 ],
 "metadata": {
  "kernelspec": {
   "display_name": "Python 3",
   "language": "python",
   "name": "python3"
  },
  "language_info": {
   "codemirror_mode": {
    "name": "ipython",
    "version": 3
   },
   "file_extension": ".py",
   "mimetype": "text/x-python",
   "name": "python",
   "nbconvert_exporter": "python",
   "pygments_lexer": "ipython3",
   "version": "3.8.3"
  }
 },
 "nbformat": 4,
 "nbformat_minor": 4
}
